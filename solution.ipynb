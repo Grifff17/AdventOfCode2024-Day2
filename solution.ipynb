{
 "cells": [
  {
   "cell_type": "code",
   "execution_count": 9,
   "metadata": {},
   "outputs": [],
   "source": [
    "import pandas as pd\n",
    "import numpy as np\n",
    "from utils import fileRead"
   ]
  },
  {
   "cell_type": "code",
   "execution_count": 10,
   "metadata": {},
   "outputs": [],
   "source": [
    "data = fileRead(\"input.txt\")"
   ]
  },
  {
   "cell_type": "markdown",
   "metadata": {},
   "source": [
    "## Part 1"
   ]
  },
  {
   "cell_type": "code",
   "execution_count": 11,
   "metadata": {},
   "outputs": [
    {
     "data": {
      "text/plain": [
       "220"
      ]
     },
     "execution_count": 11,
     "metadata": {},
     "output_type": "execute_result"
    }
   ],
   "source": [
    "sum = 0\n",
    "for report in data:\n",
    "    asc = True\n",
    "    desc = True\n",
    "    row = report.strip().split(\" \")\n",
    "    row = [int(i) for i in row]\n",
    "    for i in range(1,len(row)):\n",
    "        if row[i] >= row[i-1]:\n",
    "            desc = False\n",
    "        if row[i] <= row[i-1]:\n",
    "            asc = False\n",
    "        diff = abs(row[i]-row[i-1])\n",
    "        if diff < 1 or diff > 3:\n",
    "            asc = False\n",
    "            desc = False\n",
    "    if asc or desc:\n",
    "        sum = sum + 1\n",
    "sum"
   ]
  },
  {
   "cell_type": "markdown",
   "metadata": {},
   "source": [
    "## Part 2"
   ]
  },
  {
   "cell_type": "code",
   "execution_count": 12,
   "metadata": {},
   "outputs": [
    {
     "data": {
      "text/plain": [
       "296"
      ]
     },
     "execution_count": 12,
     "metadata": {},
     "output_type": "execute_result"
    }
   ],
   "source": [
    "sum = 0\n",
    "for report in data:\n",
    "    row = report.strip().split(\" \")\n",
    "    row = [int(i) for i in row]\n",
    "\n",
    "    for j in range(len(row)):\n",
    "        asc = True\n",
    "        desc = True\n",
    "        subrow = row.copy()\n",
    "        subrow.pop(j)\n",
    "        for i in range(1,len(subrow)):\n",
    "            if subrow[i] >= subrow[i-1]:\n",
    "                desc = False\n",
    "            if subrow[i] <= subrow[i-1]:\n",
    "                asc = False\n",
    "            diff = abs(subrow[i]-subrow[i-1])\n",
    "            if diff < 1 or diff > 3:\n",
    "                asc = False\n",
    "                desc = False\n",
    "        if asc or desc:\n",
    "            sum = sum + 1\n",
    "            break\n",
    "sum"
   ]
  },
  {
   "cell_type": "code",
   "execution_count": null,
   "metadata": {},
   "outputs": [],
   "source": []
  }
 ],
 "metadata": {
  "kernelspec": {
   "display_name": "base",
   "language": "python",
   "name": "python3"
  },
  "language_info": {
   "codemirror_mode": {
    "name": "ipython",
    "version": 3
   },
   "file_extension": ".py",
   "mimetype": "text/x-python",
   "name": "python",
   "nbconvert_exporter": "python",
   "pygments_lexer": "ipython3",
   "version": "3.11.7"
  }
 },
 "nbformat": 4,
 "nbformat_minor": 2
}
